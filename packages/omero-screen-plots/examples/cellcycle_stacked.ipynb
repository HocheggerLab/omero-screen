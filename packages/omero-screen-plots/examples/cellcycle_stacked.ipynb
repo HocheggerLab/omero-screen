{
 "cells": [
  {
   "cell_type": "code",
   "execution_count": null,
   "id": "0",
   "metadata": {},
   "outputs": [],
   "source": [
    "import pandas as pd\n",
    "import matplotlib.pyplot as plt\n",
    "from pathlib import Path\n",
    "\n",
    "from omero_screen_plots import cellcycle_stacked\n",
    "from omero_screen_plots.utils import save_fig\n",
    "\n",
    "# Setup output directory\n",
    "path = Path(\"../images\")\n",
    "path.mkdir(parents=True, exist_ok=True)\n",
    "\n",
    "# Load sample data\n",
    "df = pd.read_csv(\"data/sample_plate_data.csv\")\n",
    "\n",
    "# Define conditions for examples\n",
    "conditions = ['control', 'cond01', 'cond02', 'cond03']\n",
    "print(\"Available conditions:\", conditions)\n",
    "print(\"Available cell lines:\", df['cell_line'].unique())\n",
    "print(\"Data shape:\", df.shape)"
   ]
  },
  {
   "cell_type": "code",
   "execution_count": null,
   "id": "1",
   "metadata": {},
   "outputs": [],
   "source": [
    "# standard default plot\n",
    "\n",
    "fig, ax = cellcycle_stacked(\n",
    "    df=df,\n",
    "    conditions=conditions,\n",
    "    condition_col=\"condition\",\n",
    "    selector_col=\"cell_line\",\n",
    "    selector_val=\"MCF10A\",\n",
    "    title=\"cellcycle stacked default\", \n",
    "    fig_size=(7, 5),\n",
    "    save=True,\n",
    "    path=path,\n",
    "    file_format=\"pdf\",\n",
    "    tight_layout=False,\n",
    ")\n"
   ]
  },
  {
   "cell_type": "code",
   "execution_count": null,
   "id": "2",
   "metadata": {},
   "outputs": [],
   "source": [
    "# turn off error bars\n",
    "\n",
    "fig, ax = cellcycle_stacked(\n",
    "    df=df,\n",
    "    conditions=conditions,\n",
    "    condition_col=\"condition\",\n",
    "    selector_col=\"cell_line\",\n",
    "    selector_val=\"MCF10A\",\n",
    "    title=\"cellcycle stacked no errorbars\", \n",
    "    fig_size=(7, 5),\n",
    "    show_error_bars=False,\n",
    "    save=True,\n",
    "    path=path,\n",
    "    file_format=\"pdf\",\n",
    "    tight_layout=False,\n",
    ")\n"
   ]
  },
  {
   "cell_type": "code",
   "execution_count": null,
   "id": "3",
   "metadata": {},
   "outputs": [],
   "source": [
    "fig, ax = cellcycle_stacked(\n",
    "    df=df,\n",
    "    conditions=conditions,\n",
    "    condition_col=\"condition\",\n",
    "    selector_col=\"cell_line\",\n",
    "    selector_val=\"MCF10A\",\n",
    "    title=\"Cell cycle stacked plot example\", \n",
    "    show_triplicates=True,\n",
    "    group_size=2,\n",
    "    fig_size=(7, 6),\n",
    "\n",
    ")"
   ]
  },
  {
   "cell_type": "markdown",
   "id": "4",
   "metadata": {},
   "source": [
    "## Example 4: DNA Content Terminology\n",
    "\n",
    "Use DNA content naming convention instead of cell cycle phases."
   ]
  },
  {
   "cell_type": "code",
   "execution_count": null,
   "id": "5",
   "metadata": {},
   "outputs": [],
   "source": [
    "# DNA content terminology\n",
    "fig, ax = cellcycle_stacked(\n",
    "    df=df,\n",
    "    conditions=[\"control\", \"cond01\", \"cond02\"],\n",
    "    selector_val=\"MCF10A\",\n",
    "    cc_phases=False,  # Use DNA content terminology (<2N, 2N, S, 4N, >4N)\n",
    "    title=\"DNA Content Terminology\",\n",
    "    save=True,\n",
    "    path=path,\n",
    "    file_format=\"pdf\"\n",
    ")"
   ]
  },
  {
   "cell_type": "markdown",
   "id": "6",
   "metadata": {},
   "source": [
    "## Example 5: Custom Phase Selection\n",
    "\n",
    "Display only specific cell cycle phases and exclude others."
   ]
  },
  {
   "cell_type": "code",
   "execution_count": null,
   "id": "7",
   "metadata": {},
   "outputs": [],
   "source": [
    "# Custom phase selection\n",
    "fig, ax = cellcycle_stacked(\n",
    "    df=df,\n",
    "    conditions=[\"control\", \"cond01\", \"cond02\"],\n",
    "    selector_val=\"MCF10A\",\n",
    "    phase_order=[\"G1\", \"S\", \"G2/M\"],  # Exclude Sub-G1 and Polyploid\n",
    "    title=\"Custom Phase Selection\",\n",
    "    save=True,\n",
    "    path=path,\n",
    "    file_format=\"pdf\"\n",
    ")"
   ]
  },
  {
   "cell_type": "markdown",
   "id": "8",
   "metadata": {},
   "source": [
    "## Example 6: Without Legend\n",
    "\n",
    "Plot without legend for use in subplots or when creating custom legends."
   ]
  },
  {
   "cell_type": "code",
   "execution_count": null,
   "id": "9",
   "metadata": {},
   "outputs": [],
   "source": [
    "# No legend\n",
    "fig, ax = cellcycle_stacked(\n",
    "    df=df,\n",
    "    conditions=[\"control\", \"cond01\"],\n",
    "    selector_val=\"MCF10A\",\n",
    "    show_legend=False,  # Remove legend\n",
    "    title=\"Plot without Legend\",\n",
    "    save=True,\n",
    "    path=path,\n",
    "    file_format=\"pdf\"\n",
    ")"
   ]
  },
  {
   "cell_type": "markdown",
   "id": "10",
   "metadata": {},
   "source": [
    "## Example 7: Triplicates without Boxes\n",
    "\n",
    "Show individual triplicate bars but without the surrounding boxes."
   ]
  },
  {
   "cell_type": "code",
   "execution_count": null,
   "id": "11",
   "metadata": {},
   "outputs": [],
   "source": [
    "# Triplicates without boxes\n",
    "fig, ax = cellcycle_stacked(\n",
    "    df=df,\n",
    "    conditions=[\"control\", \"cond01\"],\n",
    "    selector_val=\"MCF10A\",\n",
    "    show_triplicates=True,  # Show individual bars\n",
    "    show_boxes=False,       # But don't draw boxes\n",
    "    title=\"Triplicates without Boxes\",\n",
    "    save=True,\n",
    "    path=path,\n",
    "    file_format=\"pdf\"\n",
    ")"
   ]
  },
  {
   "cell_type": "markdown",
   "id": "12",
   "metadata": {},
   "source": [
    "## Example 8: Custom Colors\n",
    "\n",
    "Use custom colors for the cell cycle phases."
   ]
  },
  {
   "cell_type": "code",
   "execution_count": null,
   "id": "13",
   "metadata": {},
   "outputs": [],
   "source": [
    "# Custom colors\n",
    "custom_colors = [\n",
    "    \"#FFB6C1\",  # Light pink for Sub-G1\n",
    "    \"#87CEEB\",  # Sky blue for G1\n",
    "    \"#98FB98\",  # Pale green for S\n",
    "    \"#F0E68C\",  # Khaki for G2/M\n",
    "    \"#DDA0DD\",  # Plum for Polyploid\n",
    "]\n",
    "\n",
    "fig, ax = cellcycle_stacked(\n",
    "    df=df,\n",
    "    conditions=[\"control\", \"cond01\", \"cond02\"],\n",
    "    selector_val=\"MCF10A\",\n",
    "    colors=custom_colors,\n",
    "    title=\"Custom Color Scheme\",\n",
    "    save=True,\n",
    "    path=path,\n",
    "    file_format=\"pdf\"\n",
    ")"
   ]
  },
  {
   "cell_type": "markdown",
   "id": "14",
   "metadata": {},
   "source": [
    "## Example 9: Advanced Grouping with Triplicates\n",
    "\n",
    "Combine grouping with triplicate mode for complex experimental layouts."
   ]
  },
  {
   "cell_type": "code",
   "execution_count": null,
   "id": "15",
   "metadata": {},
   "outputs": [],
   "source": [
    "# Advanced grouping with triplicates\n",
    "fig, ax = cellcycle_stacked(\n",
    "    df=df,\n",
    "    conditions=[\"control\", \"cond01\", \"cond02\", \"cond03\"],\n",
    "    selector_val=\"MCF10A\",\n",
    "    show_triplicates=True,     # Individual bars per plate\n",
    "    show_boxes=True,          # Boxes around triplicates\n",
    "    group_size=2,             # Group in pairs\n",
    "    within_group_spacing=0.01, # Space between bars within group\n",
    "    between_group_gap=0.1,    # Gap between groups\n",
    "    repeat_offset=0.15,       # Closer spacing for triplicates\n",
    "    title=\"Advanced Grouping with Triplicates\",\n",
    "    fig_size=(8, 6),         # Wider figure for complex layout\n",
    "    save=True,\n",
    "    path=path,\n",
    "    file_format=\"pdf\"\n",
    ")"
   ]
  },
  {
   "cell_type": "markdown",
   "id": "16",
   "metadata": {},
   "source": [
    "## Combined with other plottypes"
   ]
  },
  {
   "cell_type": "code",
   "execution_count": null,
   "id": "17",
   "metadata": {},
   "outputs": [],
   "source": [
    "from omero_screen_plots import feature_norm_plot\n",
    "from omero_screen_plots.utils import save_fig\n",
    "\n",
    "fig, ax = plt.subplots(nrows=2, figsize=(2, 4))\n",
    "\n",
    "feature_norm_plot(\n",
    "    df=df,\n",
    "    feature=\"area_cell\",\n",
    "    conditions=conditions,\n",
    "    condition_col=\"condition\",\n",
    "    selector_col=\"cell_line\",\n",
    "    selector_val=\"MCF10A\",\n",
    "    title=\"feature norm plot\",\n",
    "    show_triplicates=True,\n",
    "    group_size=2,\n",
    "    within_group_spacing=0.1,\n",
    "    between_group_gap=0.3,\n",
    "    x_label=False,\n",
    "    fig_size=(7, 5),\n",
    "    axes=ax[0],\n",
    ")\n",
    "ax[0].set_title(\"feature norm plot\", fontsize=7, y=1.05, x=0, weight=\"bold\" )\n",
    "cellcycle_stacked(\n",
    "    df=df,\n",
    "    conditions=conditions,\n",
    "    condition_col=\"condition\",\n",
    "    selector_col=\"cell_line\",\n",
    "    selector_val=\"MCF10A\",\n",
    "    show_triplicates=True,\n",
    "    group_size=2,\n",
    "    within_group_spacing=0.1,  # Match feature plot spacing\n",
    "    between_group_gap=0.3,      # Match feature plot spacing\n",
    "    fig_size=(7, 5),\n",
    "    axes=ax[1],\n",
    ")\n",
    "ax[1].set_title(\"cellcycle stacked plot\", fontsize=7, y=1.05, x=0, weight=\"bold\" )\n",
    "title=\"cellcycle stacked plot combined\"\n",
    "fig.suptitle(title, fontsize=8, y=1.01, x=0.3, weight=\"bold\" )\n",
    "save_fig(fig, path, \"cellcycle_stacked_plot\", fig_extension=\"pdf\")"
   ]
  },
  {
   "cell_type": "markdown",
   "id": "18",
   "metadata": {},
   "source": [
    "## Summary of Key Parameters\n",
    "\n",
    "The `cellcycle_stacked()` function offers extensive customization options:\n",
    "\n",
    "### Display Modes\n",
    "- `show_triplicates=False` (default): Summary bars with error bars\n",
    "- `show_triplicates=True`: Individual bars for each plate/replicate\n",
    "\n",
    "### Phase Options\n",
    "- `cc_phases=True` (default): Cell cycle terminology (G1, S, G2/M, etc.)\n",
    "- `cc_phases=False`: DNA content terminology (2N, S, 4N, etc.)\n",
    "- `phase_order=[\"G1\", \"S\", \"G2/M\"]`: Custom phase selection\n",
    "\n",
    "### Grouping Options\n",
    "- `group_size=1` (default): No grouping\n",
    "- `group_size=2`: Group conditions in pairs\n",
    "- `within_group_spacing`: Space between bars within a group\n",
    "- `between_group_gap`: Gap between groups\n",
    "\n",
    "### Visual Options\n",
    "- `show_error_bars=True` (default): Error bars on summary plots\n",
    "- `show_boxes=True` (default): Boxes around triplicates\n",
    "- `show_legend=True` (default): Phase color legend\n",
    "- `colors=[...]`: Custom color scheme\n",
    "\n",
    "### Layout Options\n",
    "- `repeat_offset=0.18`: Spacing between triplicate bars\n",
    "- `bar_width=0.5`: Width of bars\n",
    "- `rotation=45`: X-axis label rotation\n",
    "- `fig_size=(6, 6)`: Figure dimensions\n",
    "\n",
    "This unified function replaces the need for separate `cellcycle_stacked` and `cellcycle_grouped` functions, providing all functionality through configuration options."
   ]
  }
 ],
 "metadata": {
  "kernelspec": {
   "display_name": ".venv",
   "language": "python",
   "name": "python3"
  },
  "language_info": {
   "codemirror_mode": {
    "name": "ipython",
    "version": 3
   },
   "file_extension": ".py",
   "mimetype": "text/x-python",
   "name": "python",
   "nbconvert_exporter": "python",
   "pygments_lexer": "ipython3",
   "version": "3.12.10"
  }
 },
 "nbformat": 4,
 "nbformat_minor": 5
}
