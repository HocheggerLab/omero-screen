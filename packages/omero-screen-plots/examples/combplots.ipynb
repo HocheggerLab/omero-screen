{
 "cells": [
  {
   "cell_type": "code",
   "execution_count": null,
   "metadata": {},
   "outputs": [],
   "source": [
    "import pandas as pd\n",
    "import matplotlib.pyplot as plt\n",
    "from pathlib import Path\n",
    "\n",
    "from omero_screen_plots import combplot_feature, combplot_cellcycle\n",
    "from omero_screen_plots.utils import save_fig\n",
    "\n",
    "# Setup output directory\n",
    "path = Path(\"../images\")\n",
    "path.mkdir(parents=True, exist_ok=True)\n",
    "\n",
    "# Load sample data\n",
    "df = pd.read_csv(\"data/sample_plate_data.csv\")\n",
    "\n",
    "# Define conditions for examples\n",
    "conditions = ['control', 'cond01', 'cond02', 'cond03']\n",
    "print(\"Available conditions:\", conditions)\n",
    "print(\"Available cell lines:\", df['cell_line'].unique())\n",
    "print(\"Available features:\", [col for col in df.columns if 'intensity' in col or 'area' in col][:5], \"...\")\n",
    "print(\"Data shape:\", df.shape)"
   ]
  },
  {
   "cell_type": "markdown",
   "metadata": {},
   "source": [
    "## Combplot Feature Examples\n",
    "\n",
    "The `combplot_feature` function creates a 3-row combined plot:\n",
    "- Top row: DNA content histograms\n",
    "- Middle row: DNA vs EdU scatter plots with cell cycle phases\n",
    "- Bottom row: DNA vs custom feature scatter plots with threshold coloring"
   ]
  },
  {
   "cell_type": "code",
   "execution_count": null,
   "metadata": {},
   "outputs": [],
   "source": [
    "# Example 1: Default combplot_feature with p21 intensity\n",
    "fig, axes = combplot_feature(\n",
    "    df=df,\n",
    "    conditions=conditions,\n",
    "    feature=\"intensity_mean_p21_nucleus\",\n",
    "    threshold=5000,\n",
    "    selector_val=\"MCF10A\",\n",
    "    title=\"combplot feature p21 intensity\",\n",
    "    cell_number=3000,  # Sample 3000 cells for scatter plots\n",
    "    save=True,\n",
    "    path=path,\n",
    "    file_format=\"png\",  # PNG for complex scatter plots\n",
    ")"
   ]
  },
  {
   "cell_type": "code",
   "execution_count": null,
   "metadata": {},
   "outputs": [],
   "source": [
    "# Example 2: Cell area feature with different threshold\n",
    "fig, axes = combplot_feature(\n",
    "    df=df,\n",
    "    conditions=conditions,\n",
    "    feature=\"area_cell\",\n",
    "    threshold=2000,\n",
    "    selector_val=\"MCF10A\",\n",
    "    title=\"combplot feature cell area\",\n",
    "    cell_number=2000,  # Fewer cells for faster rendering\n",
    "    save=True,\n",
    "    path=path,\n",
    "    file_format=\"png\",\n",
    ")"
   ]
  },
  {
   "cell_type": "code",
   "execution_count": null,
   "metadata": {},
   "outputs": [],
   "source": [
    "# Example 3: Nuclear intensity feature with custom sizing\n",
    "fig, axes = combplot_feature(\n",
    "    df=df,\n",
    "    conditions=conditions[:3],  # Use only first 3 conditions\n",
    "    feature=\"intensity_mean_p21_nucleus\",\n",
    "    threshold=7500,\n",
    "    selector_val=\"MCF10A\",\n",
    "    title=\"combplot feature nuclear intensity\",\n",
    "    cell_number=5000,  # More cells for better KDE\n",
    "    fig_size=(9, 7),  # Smaller figure\n",
    "    save=True,\n",
    "    path=path,\n",
    "    file_format=\"png\",\n",
    ")"
   ]
  },
  {
   "cell_type": "code",
   "execution_count": null,
   "metadata": {},
   "outputs": [],
   "source": [
    "# Example 4: Full data visualization (no sampling)\n",
    "fig, axes = combplot_feature(\n",
    "    df=df,\n",
    "    conditions=conditions[:2],  # Just control vs treatment\n",
    "    feature=\"intensity_mean_p21_nucleus\",\n",
    "    threshold=6000,\n",
    "    selector_val=\"MCF10A\",\n",
    "    title=\"combplot feature full data\",\n",
    "    cell_number=None,  # Use all cells (no sampling)\n",
    "    fig_size=(6, 7),  # Compact width for 2 conditions\n",
    "    save=True,\n",
    "    path=path,\n",
    "    file_format=\"png\",\n",
    ")"
   ]
  },
  {
   "cell_type": "markdown",
   "metadata": {},
   "source": [
    "## Combplot Cell Cycle Examples\n",
    "\n",
    "The `combplot_cellcycle` function creates a 2-row combined plot:\n",
    "- Top row: DNA content histograms + space for barplot\n",
    "- Bottom row: DNA vs EdU scatter plots + cell cycle stacked barplot"
   ]
  },
  {
   "cell_type": "code",
   "execution_count": null,
   "metadata": {},
   "outputs": [],
   "source": [
    "# Example 5: Default combplot_cellcycle\n",
    "fig, axes = combplot_cellcycle(\n",
    "    df=df,\n",
    "    conditions=conditions,\n",
    "    selector_val=\"MCF10A\",\n",
    "    title=\"combplot cellcycle default\",\n",
    "    cell_number=3000,\n",
    "    cc_phases=True,  # Use cell cycle terminology\n",
    "    show_error_bars=True,  # Show error bars on barplot\n",
    "    save=True,\n",
    "    path=path,\n",
    "    file_format=\"png\",\n",
    ")"
   ]
  },
  {
   "cell_type": "code",
   "execution_count": null,
   "metadata": {},
   "outputs": [],
   "source": [
    "# Example 6: DNA content terminology without error bars\n",
    "fig, axes = combplot_cellcycle(\n",
    "    df=df,\n",
    "    conditions=conditions,\n",
    "    selector_val=\"MCF10A\",\n",
    "    title=\"combplot cellcycle DNA terminology\",\n",
    "    cell_number=3000,\n",
    "    cc_phases=False,  # Use DNA content terminology\n",
    "    show_error_bars=False,  # Clean barplot without error bars\n",
    "    save=True,\n",
    "    path=path,\n",
    "    file_format=\"png\",\n",
    ")"
   ]
  },
  {
   "cell_type": "code",
   "execution_count": null,
   "metadata": {},
   "outputs": [],
   "source": [
    "# Example 7: Compact version with 3 conditions\n",
    "fig, axes = combplot_cellcycle(\n",
    "    df=df,\n",
    "    conditions=conditions[:3],  # First 3 conditions only\n",
    "    selector_val=\"MCF10A\",\n",
    "    title=\"combplot cellcycle compact\",\n",
    "    cell_number=2000,  # Fewer cells for faster rendering\n",
    "    cc_phases=True,\n",
    "    show_error_bars=True,\n",
    "    fig_size=(10, 7),  # Smaller width\n",
    "    save=True,\n",
    "    path=path,\n",
    "    file_format=\"png\",\n",
    ")"
   ]
  },
  {
   "cell_type": "code",
   "execution_count": null,
   "metadata": {},
   "outputs": [],
   "source": [
    "# Example 8: High-resolution with all data\n",
    "fig, axes = combplot_cellcycle(\n",
    "    df=df,\n",
    "    conditions=conditions,\n",
    "    selector_val=\"MCF10A\",\n",
    "    title=\"combplot cellcycle high res\",\n",
    "    cell_number=5000,  # More cells for detailed scatter plots\n",
    "    cc_phases=True,\n",
    "    show_error_bars=True,\n",
    "    fig_size=(14, 8),  # Larger figure\n",
    "    save=True,\n",
    "    path=path,\n",
    "    file_format=\"png\",\n",
    "    dpi=300,  # High DPI for publication\n",
    ")"
   ]
  },
  {
   "cell_type": "markdown",
   "metadata": {},
   "source": [
    "## Advanced Examples: Combining Multiple Features"
   ]
  },
  {
   "cell_type": "code",
   "execution_count": null,
   "metadata": {},
   "outputs": [],
   "source": [
    "# Example 9: Side-by-side comparison of different features\n",
    "import matplotlib.pyplot as plt\n",
    "\n",
    "# Create a figure with subplots for multiple features\n",
    "features_to_compare = [\n",
    "    (\"intensity_mean_p21_nucleus\", 5000),\n",
    "    (\"area_nucleus\", 500),\n",
    "]\n",
    "\n",
    "for feature, threshold in features_to_compare:\n",
    "    fig, axes = combplot_feature(\n",
    "        df=df,\n",
    "        conditions=conditions[:2],  # Compare control vs first treatment\n",
    "        feature=feature,\n",
    "        threshold=threshold,\n",
    "        selector_val=\"MCF10A\",\n",
    "        title=f\"combplot {feature.replace('_', ' ')}\",\n",
    "        cell_number=2000,\n",
    "        fig_size=(6, 7),\n",
    "        save=True,\n",
    "        path=path,\n",
    "        file_format=\"png\",\n",
    "    )\n",
    "    plt.show()"
   ]
  },
  {
   "cell_type": "code",
   "execution_count": null,
   "metadata": {},
   "outputs": [],
   "source": [
    "# Example 10: Analysis without selector (all cell lines)\n",
    "fig, axes = combplot_cellcycle(\n",
    "    df=df,\n",
    "    conditions=conditions[:2],\n",
    "    selector_col=None,  # No filtering by cell line\n",
    "    selector_val=None,\n",
    "    title=\"combplot cellcycle all cells\",\n",
    "    cell_number=3000,\n",
    "    cc_phases=True,\n",
    "    show_error_bars=True,\n",
    "    fig_size=(8, 7),\n",
    "    save=True,\n",
    "    path=path,\n",
    "    file_format=\"png\",\n",
    ")"
   ]
  }
 ],
 "metadata": {
  "kernelspec": {
   "display_name": ".venv",
   "language": "python",
   "name": "python3"
  },
  "language_info": {
   "codemirror_mode": {
    "name": "ipython",
    "version": 3
   },
   "file_extension": ".py",
   "mimetype": "text/x-python",
   "name": "python",
   "nbconvert_exporter": "python",
   "pygments_lexer": "ipython3",
   "version": "3.12.10"
  }
 },
 "nbformat": 4,
 "nbformat_minor": 4
}
