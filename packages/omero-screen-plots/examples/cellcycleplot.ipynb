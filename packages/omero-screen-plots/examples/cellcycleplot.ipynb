{
 "cells": [
  {
   "cell_type": "code",
   "execution_count": null,
   "id": "0",
   "metadata": {},
   "outputs": [],
   "source": [
    "import pandas as pd\n",
    "import matplotlib.pyplot as plt\n",
    "from pathlib import Path\n",
    "\n",
    "from omero_screen_plots import cellcycle_plot\n",
    "from omero_screen_plots.utils import save_fig\n",
    "\n",
    "# Setup output directory\n",
    "path = Path(\"../images\")\n",
    "path.mkdir(parents=True, exist_ok=True)\n",
    "\n",
    "# Load sample data\n",
    "df = pd.read_csv(\"data/sample_plate_data.csv\")\n",
    "\n",
    "# Define conditions for examples\n",
    "conditions = ['control', 'cond01', 'cond02', 'cond03']\n",
    "print(\"Available conditions:\", conditions)\n",
    "print(\"Available cell lines:\", df['cell_line'].unique())\n",
    "print(\"Data shape:\", df.shape)"
   ]
  },
  {
   "cell_type": "code",
   "execution_count": null,
   "id": "1",
   "metadata": {},
   "outputs": [],
   "source": [
    "# Example 1: Default (cellcycle plot default)\n",
    "fig, axes = cellcycle_plot(\n",
    "    df=df,\n",
    "    conditions=conditions,\n",
    "    selector_val=\"MCF10A\",\n",
    "    title=\"cellcycle plot default\",\n",
    "    save=True,\n",
    "    path=path,\n",
    "    tight_layout=False,\n",
    "    file_format=\"pdf\",\n",
    "    dpi=300,\n",
    ")"
   ]
  },
  {
   "cell_type": "code",
   "execution_count": null,
   "id": "2",
   "metadata": {},
   "outputs": [],
   "source": [
    "# Example 2: DNA Content Terminology (cc_phases=False)\n",
    "fig, axes = cellcycle_plot(\n",
    "    df=df,\n",
    "    conditions=conditions,\n",
    "    selector_val=\"MCF10A\",\n",
    "    title=\"cellcycle plot DNA content terminology\",\n",
    "    cc_phases=False,  # Use DNA content terminology (<2N, 2N, S, 4N, >4N)\n",
    "    save=True,\n",
    "    path=path,\n",
    "    tight_layout=False,\n",
    "    file_format=\"pdf\",\n",
    "    dpi=300,\n",
    ")"
   ]
  },
  {
   "cell_type": "code",
   "execution_count": null,
   "id": "3",
   "metadata": {},
   "outputs": [],
   "source": [
    "# Example 3: Hide Sub-G1 Phase (2x2 Layout)\n",
    "fig, axes = cellcycle_plot(\n",
    "    df=df,\n",
    "    conditions=conditions,\n",
    "    selector_val=\"MCF10A\",\n",
    "    title=\"cellcycle plot no SubG1\",\n",
    "    show_subG1=False,  # Hide Sub-G1 phase (creates 2x2 layout)\n",
    "    save=True,\n",
    "    path=path,\n",
    "    tight_layout=False,\n",
    "    file_format=\"pdf\",\n",
    "    dpi=300,\n",
    ")"
   ]
  },
  {
   "cell_type": "code",
   "execution_count": null,
   "id": "4",
   "metadata": {},
   "outputs": [],
   "source": [
    "# Example 4: With Plate Legend (Different Shapes per Plate)\n",
    "fig, axes = cellcycle_plot(\n",
    "    df=df,\n",
    "    conditions=conditions,\n",
    "    selector_val=\"MCF10A\",\n",
    "    title=\"cellcycle plot with plate legend\",\n",
    "    show_repeat_points=True,  # Must be enabled for legend\n",
    "    show_plate_legend=True,   # Show legend with plate_id shapes\n",
    "    save=True,\n",
    "    path=path,\n",
    "    tight_layout=False,\n",
    "    file_format=\"pdf\",\n",
    "    dpi=300,\n",
    ")"
   ]
  },
  {
   "cell_type": "code",
   "execution_count": null,
   "id": "5",
   "metadata": {},
   "outputs": [],
   "source": [
    "# Example 5: No Statistical Elements (Clean Look)\n",
    "fig, axes = cellcycle_plot(\n",
    "    df=df,\n",
    "    conditions=conditions,\n",
    "    selector_val=\"MCF10A\",\n",
    "    title=\"cellcycle plot no statistics\",\n",
    "    show_repeat_points=False,   # Hide individual points\n",
    "    show_significance=False,    # Hide significance marks\n",
    "    save=True,\n",
    "    path=path,\n",
    "    tight_layout=False,\n",
    "    file_format=\"pdf\",\n",
    "    dpi=300,\n",
    ")"
   ]
  },
  {
   "cell_type": "code",
   "execution_count": null,
   "id": "6",
   "metadata": {},
   "outputs": [],
   "source": [
    "# Example 6: Custom Colors and Layout\n",
    "fig, axes = cellcycle_plot(\n",
    "    df=df,\n",
    "    conditions=conditions,\n",
    "    selector_val=\"MCF10A\",\n",
    "    title=\"cellcycle plot custom styling\",\n",
    "    colors=[\"#FF6B6B\", \"#4ECDC4\", \"#45B7D1\", \"#96CEB4\", \"#FFEAA7\"],  # Custom color palette\n",
    "    fig_size=(8, 6),           # Custom figure size\n",
    "    rotation=0,                # No rotation for x-labels\n",
    "    save=True,\n",
    "    path=path,\n",
    "    tight_layout=True,         # Use tight layout\n",
    "    file_format=\"pdf\",\n",
    "    dpi=300,\n",
    ")"
   ]
  },
  {
   "cell_type": "code",
   "execution_count": null,
   "id": "7",
   "metadata": {},
   "outputs": [],
   "source": [
    "# Example 7: Combined Features (DNA terminology + plate legend + no SubG1)\n",
    "fig, axes = cellcycle_plot(\n",
    "    df=df,\n",
    "    conditions=conditions,\n",
    "    selector_val=\"MCF10A\",\n",
    "    title=\"cellcycle plot combined features\",\n",
    "    cc_phases=False,            # DNA content terminology\n",
    "    show_subG1=False,          # Hide Sub-G1 (2x2 layout)\n",
    "    show_plate_legend=True,    # Show plate shapes legend\n",
    "    show_repeat_points=True,   # Enable individual points\n",
    "    fig_size=(6, 5),           # Compact size\n",
    "    save=True,\n",
    "    path=path,\n",
    "    tight_layout=False,\n",
    "    file_format=\"pdf\",\n",
    "    dpi=300,\n",
    ")"
   ]
  },
  {
   "cell_type": "code",
   "execution_count": null,
   "id": "8",
   "metadata": {},
   "outputs": [],
   "source": [
    "# Summary: All examples demonstrate different aspects of cellcycle_plot flexibility\n",
    "print(\"Created 7 different cellcycle plot examples showcasing:\")\n",
    "print(\"1. cellcycle plot default - Standard cell cycle terminology with all phases\")\n",
    "print(\"2. cellcycle plot DNA content terminology - DNA content labels (<2N, 2N, S, 4N, >4N)\") \n",
    "print(\"3. cellcycle plot no SubG1 - Compact 2x2 layout without Sub-G1 phase\")\n",
    "print(\"4. cellcycle plot with plate legend - Different shapes per plate_id with legend\")\n",
    "print(\"5. cellcycle plot no statistics - Clean look without repeat points/significance\")\n",
    "print(\"6. cellcycle plot custom styling - Custom colors, sizes, and formatting\")  \n",
    "print(\"7. cellcycle plot combined features - Multiple advanced options together\")\n",
    "print(f\"\\nAll examples saved to: {path}\")\n",
    "print(\"\\nKey features demonstrated: variable layouts, terminology options, plate identification,\")\n",
    "print(\"statistical controls, custom styling, and automatic M-phase detection.\")"
   ]
  }
 ],
 "metadata": {
  "kernelspec": {
   "display_name": ".venv",
   "language": "python",
   "name": "python3"
  },
  "language_info": {
   "codemirror_mode": {
    "name": "ipython",
    "version": 3
   },
   "file_extension": ".py",
   "mimetype": "text/x-python",
   "name": "python",
   "nbconvert_exporter": "python",
   "pygments_lexer": "ipython3",
   "version": "3.12.10"
  }
 },
 "nbformat": 4,
 "nbformat_minor": 5
}
