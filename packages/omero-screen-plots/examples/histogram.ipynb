{
 "cells": [
  {
   "cell_type": "markdown",
   "metadata": {},
   "source": [
    "# Histogram Plot Examples\n",
    "\n",
    "This notebook demonstrates the various features and options available in the `histogram_plot` function."
   ]
  },
  {
   "cell_type": "markdown",
   "metadata": {},
   "source": [
    "## Setup and Data Loading"
   ]
  },
  {
   "cell_type": "code",
   "execution_count": null,
   "metadata": {},
   "outputs": [],
   "source": [
    "import pandas as pd\n",
    "import numpy as np\n",
    "import matplotlib.pyplot as plt\n",
    "from pathlib import Path\n",
    "\n",
    "from omero_screen_plots import histogram_plot\n",
    "from omero_screen_plots.colors import COLOR\n",
    "from omero_screen_plots.utils import save_fig\n",
    "\n",
    "# Setup output directory\n",
    "path = Path(\"../images\")\n",
    "path.mkdir(parents=True, exist_ok=True)\n",
    "\n",
    "# Load sample data\n",
    "df = pd.read_csv(\"data/sample_plate_data.csv\")\n",
    "\n",
    "# Define conditions for examples\n",
    "conditions = ['control', 'cond01', 'cond02', 'cond03']\n",
    "print(\"Available conditions:\", conditions)\n",
    "print(\"Available cell lines:\", df['cell_line'].unique())\n",
    "print(\"Data shape:\", df.shape)\n",
    "print(\"\\nSample features:\")\n",
    "print(\"- integrated_int_DAPI_norm: DNA content (for cell cycle)\")\n",
    "print(\"- intensity_mean_p21_nucleus: p21 protein expression\")\n",
    "print(\"- area_cell: Cell area\")"
   ]
  },
  {
   "cell_type": "markdown",
   "metadata": {},
   "source": [
    "## 1. Basic Histogram - Single Condition"
   ]
  },
  {
   "cell_type": "code",
   "execution_count": null,
   "metadata": {},
   "outputs": [],
   "source": [
    "# Default histogram for a single condition\n",
    "fig, ax = histogram_plot(\n",
    "    df=df, \n",
    "    feature=\"intensity_mean_p21_nucleus\",\n",
    "    conditions=\"control\",  # Single condition as string\n",
    "    condition_col=\"condition\",\n",
    "    selector_col=\"cell_line\",\n",
    "    selector_val=\"MCF10A\",\n",
    "    title=\"Basic Histogram - p21 Expression\",\n",
    "    show_title=True,\n",
    "    save=True,\n",
    "    path=path,\n",
    "    file_format=\"pdf\"\n",
    ")"
   ]
  },
  {
   "cell_type": "markdown",
   "metadata": {},
   "source": [
    "## 2. Multiple Conditions - Subplots"
   ]
  },
  {
   "cell_type": "code",
   "execution_count": null,
   "metadata": {},
   "outputs": [],
   "source": [
    "# Multiple conditions create separate subplots\n",
    "fig, axes = histogram_plot(\n",
    "    df=df,\n",
    "    feature=\"intensity_mean_p21_nucleus\",\n",
    "    conditions=conditions,  # List of conditions\n",
    "    condition_col=\"condition\",\n",
    "    selector_col=\"cell_line\",\n",
    "    selector_val=\"MCF10A\",\n",
    "    bins=50,  # Fewer bins for clearer visualization\n",
    "    title=\"Multiple Conditions - p21 Expression\",\n",
    "    show_title=True,\n",
    "    fig_size=(16, 4),  # Automatically sized: 4cm per condition\n",
    "    save=True,\n",
    "    path=path,\n",
    "    file_format=\"pdf\"\n",
    ")\n",
    "print(f\"Created {len(axes)} subplots\")"
   ]
  },
  {
   "cell_type": "markdown",
   "metadata": {},
   "source": [
    "## 3. DNA Content with Log Scale"
   ]
  },
  {
   "cell_type": "code",
   "execution_count": null,
   "metadata": {},
   "outputs": [],
   "source": [
    "# DNA content histogram with log2 scale (common for cell cycle analysis)\n",
    "fig, axes = histogram_plot(\n",
    "    df=df,\n",
    "    feature=\"integrated_int_DAPI_norm\",\n",
    "    conditions=conditions,\n",
    "    condition_col=\"condition\",\n",
    "    selector_col=\"cell_line\",\n",
    "    selector_val=\"MCF10A\",\n",
    "    bins=100,  # Default 100 bins for good resolution\n",
    "    log_scale=True,\n",
    "    log_base=2,  # Base 2 for DNA content (2N, 4N, etc.)\n",
    "    x_limits=(1, 16),  # Typical DNA content range\n",
    "    title=\"DNA Content Distribution (Log2 Scale)\",\n",
    "    show_title=True,\n",
    "    save=True,\n",
    "    path=path,\n",
    "    file_format=\"pdf\"\n",
    ")"
   ]
  },
  {
   "cell_type": "markdown",
   "metadata": {},
   "source": [
    "## 4. KDE Overlay - Single Plot Comparison"
   ]
  },
  {
   "cell_type": "code",
   "execution_count": null,
   "metadata": {},
   "outputs": [],
   "source": [
    "# KDE overlay mode: Shows only smooth density curves in a single plot\n",
    "fig, ax = histogram_plot(\n",
    "    df=df,\n",
    "    feature=\"integrated_int_DAPI_norm\",\n",
    "    conditions=conditions,  # All conditions overlaid\n",
    "    condition_col=\"condition\",\n",
    "    selector_col=\"cell_line\",\n",
    "    selector_val=\"MCF10A\",\n",
    "    kde_overlay=True,  # Enables KDE-only mode\n",
    "    kde_smoothing=0.8,  # Smoothing factor (0.5-2.0)\n",
    "    log_scale=True,\n",
    "    log_base=2,\n",
    "    x_limits=(1, 16),\n",
    "    title=\"KDE Overlay - DNA Content Comparison\",\n",
    "    show_title=True,\n",
    "    fig_size=(8, 5),\n",
    "    save=True,\n",
    "    path=path,\n",
    "    file_format=\"pdf\"\n",
    ")\n",
    "print(\"Note: Returns single Axes object for KDE overlay mode\")"
   ]
  },
  {
   "cell_type": "markdown",
   "metadata": {},
   "source": [
    "## 5. KDE Smoothing Comparison"
   ]
  },
  {
   "cell_type": "code",
   "execution_count": null,
   "metadata": {},
   "outputs": [],
   "source": [
    "# Compare different smoothing levels\n",
    "fig, axes = plt.subplots(1, 3, figsize=(12, 4))\n",
    "smoothing_values = [0.5, 1.0, 2.0]\n",
    "titles = [\"Smooth (0.5)\", \"Default (1.0)\", \"Detailed (2.0)\"]\n",
    "\n",
    "for ax, smooth, title in zip(axes, smoothing_values, titles):\n",
    "    histogram_plot(\n",
    "        df=df,\n",
    "        feature=\"intensity_mean_p21_nucleus\",\n",
    "        conditions=['control', 'cond02'],\n",
    "        condition_col=\"condition\",\n",
    "        selector_col=\"cell_line\",\n",
    "        selector_val=\"MCF10A\",\n",
    "        kde_overlay=True,\n",
    "        kde_smoothing=smooth,\n",
    "        axes=ax\n",
    "    )\n",
    "    ax.set_title(title)\n",
    "\n",
    "fig.suptitle(\"KDE Smoothing Comparison\", fontsize=12)\n",
    "fig.tight_layout()\n",
    "save_fig(fig, path, \"histogram_kde_smoothing_comparison\", fig_extension=\"pdf\")"
   ]
  },
  {
   "cell_type": "markdown",
   "metadata": {},
   "source": [
    "## 6. Normalized Histograms (Density)\n",
    "\n",
    "The histogram uses stat=\"density\" in seaborn's histplot, which:\n",
    "\n",
    "  1. Converts counts to probability density: Each bar's height represents the probability density rather than raw count\n",
    "  2. The area under the histogram sums to 1: This is true probability density normalization\n",
    "  3. Formula: density = count / (total_count * bin_width)\n",
    "\n",
    "  This means:\n",
    "  - The y-axis shows probability density (not probability)\n",
    "  - The area of each bar (height × width) represents the probability of data falling in that bin\n",
    "  - The total area of all bars = 1.0\n",
    "\n",
    "  Key Points:\n",
    "\n",
    "  - Not a simple percentage: It's not just dividing by total count\n",
    "  - Bin width matters: Narrower bins will have higher density values for the same probability\n",
    "  - Units: The y-axis units are 1/[x-axis units] (e.g., if x is cell area in μm², y is 1/μm²)\n",
    "\n",
    "  Why use density normalization?\n",
    "\n",
    "  1. Compare distributions with different sample sizes: A condition with 1000 cells can be directly compared to one with 10,000 cells\n",
    "  2. Compatible with KDE: KDE curves are always density-based, so normalized histograms match KDE scale\n",
    "  3. Standard statistical practice: This is the standard way to create probability density histograms"
   ]
  },
  {
   "cell_type": "code",
   "execution_count": null,
   "metadata": {},
   "outputs": [],
   "source": [
    "# Normalized histograms show density instead of counts\n",
    "# Useful for comparing distributions with different sample sizes\n",
    "fig, axes = histogram_plot(\n",
    "    df=df,\n",
    "    feature=\"area_cell\",\n",
    "    conditions=conditions,\n",
    "    condition_col=\"condition\",\n",
    "    selector_col=\"cell_line\",\n",
    "    selector_val=\"MCF10A\",\n",
    "    bins=50,\n",
    "    normalize=True,  # Show density instead of counts\n",
    "    title=\"Cell Area Distribution (Normalized)\",\n",
    "    show_title=True,\n",
    "    save=True,\n",
    "    path=path,\n",
    "    file_format=\"pdf\"\n",
    ")"
   ]
  },
  {
   "cell_type": "markdown",
   "metadata": {},
   "source": [
    "## 7. Custom Binning Strategies"
   ]
  },
  {
   "cell_type": "code",
   "execution_count": null,
   "metadata": {},
   "outputs": [],
   "source": [
    "# Compare different binning strategies\n",
    "fig, axes = plt.subplots(2, 2, figsize=(10, 8))\n",
    "bin_strategies = [30, 100, 'auto', 'sturges']\n",
    "titles = ['30 bins', '100 bins (default)', 'Auto', 'Sturges']\n",
    "\n",
    "for ax, bins, title in zip(axes.flat, bin_strategies, titles):\n",
    "    histogram_plot(\n",
    "        df=df,\n",
    "        feature=\"intensity_mean_p21_nucleus\",\n",
    "        conditions='control',\n",
    "        condition_col=\"condition\",\n",
    "        selector_col=\"cell_line\",\n",
    "        selector_val=\"MCF10A\",\n",
    "        bins=bins,\n",
    "        axes=ax\n",
    "    )\n",
    "    ax.set_title(title)\n",
    "\n",
    "fig.suptitle(\"Binning Strategy Comparison\", fontsize=12)\n",
    "fig.tight_layout()\n",
    "save_fig(fig, path, \"histogram_binning_comparison\", fig_extension=\"pdf\")"
   ]
  },
  {
   "cell_type": "markdown",
   "metadata": {},
   "source": [
    "## 8. Custom Colors"
   ]
  },
  {
   "cell_type": "code",
   "execution_count": null,
   "metadata": {},
   "outputs": [],
   "source": [
    "# Custom colors for histograms\n",
    "custom_colors = ['#FF6B6B', '#4ECDC4', '#45B7D1', '#96CEB4']\n",
    "\n",
    "# Regular histograms with custom colors (all use first color)\n",
    "fig1, axes1 = histogram_plot(\n",
    "    df=df,\n",
    "    feature=\"intensity_mean_p21_nucleus\",\n",
    "    conditions=conditions,\n",
    "    condition_col=\"condition\",\n",
    "    selector_col=\"cell_line\",\n",
    "    selector_val=\"MCF10A\",\n",
    "    colors=['#FF6B6B'],  # Single color for all histograms\n",
    "    bins=50,\n",
    "    title=\"Custom Color Histograms\",\n",
    "    show_title=True\n",
    ")\n",
    "\n",
    "# KDE overlay with custom colors (uses different colors)\n",
    "fig2, ax2 = histogram_plot(\n",
    "    df=df,\n",
    "    feature=\"intensity_mean_p21_nucleus\",\n",
    "    conditions=conditions,\n",
    "    condition_col=\"condition\",\n",
    "    selector_col=\"cell_line\",\n",
    "    selector_val=\"MCF10A\",\n",
    "    kde_overlay=True,\n",
    "    colors=custom_colors,  # Different colors for each KDE line\n",
    "    title=\"Custom Color KDE Overlay\",\n",
    "    show_title=True,\n",
    "    fig_size=(8, 5)\n",
    ")\n",
    "\n",
    "save_fig(fig1, path, \"histogram_custom_colors\", fig_extension=\"pdf\")\n",
    "save_fig(fig2, path, \"histogram_kde_custom_colors\", fig_extension=\"pdf\")"
   ]
  },
  {
   "cell_type": "markdown",
   "metadata": {},
   "source": [
    "## 9. Combining with Other Plots"
   ]
  },
  {
   "cell_type": "code",
   "execution_count": null,
   "metadata": {},
   "outputs": [],
   "source": [
    "# Create a complex figure combining different histogram views\n",
    "fig = plt.figure(figsize=(12, 8))\n",
    "\n",
    "# Top: Multiple histograms for different conditions\n",
    "for i, cond in enumerate(conditions[:2]):\n",
    "    ax = plt.subplot(2, 3, i+1)\n",
    "    histogram_plot(\n",
    "        df=df,\n",
    "        feature=\"integrated_int_DAPI_norm\",\n",
    "        conditions=cond,\n",
    "        condition_col=\"condition\",\n",
    "        selector_col=\"cell_line\",\n",
    "        selector_val=\"MCF10A\",\n",
    "        log_scale=True,\n",
    "        log_base=2,\n",
    "        x_limits=(1, 16),\n",
    "        axes=ax\n",
    "    )\n",
    "    ax.set_title(f\"DNA Content - {cond}\", fontsize=10)\n",
    "\n",
    "# Top right: KDE overlay\n",
    "ax3 = plt.subplot(2, 3, 3)\n",
    "histogram_plot(\n",
    "    df=df,\n",
    "    feature=\"integrated_int_DAPI_norm\",\n",
    "    conditions=conditions[:2],\n",
    "    condition_col=\"condition\",\n",
    "    selector_col=\"cell_line\",\n",
    "    selector_val=\"MCF10A\",\n",
    "    kde_overlay=True,\n",
    "    log_scale=True,\n",
    "    log_base=2,\n",
    "    x_limits=(1, 16),\n",
    "    axes=ax3\n",
    ")\n",
    "ax3.set_title(\"KDE Comparison\", fontsize=10)\n",
    "\n",
    "# Bottom: Different features\n",
    "features = [\"intensity_mean_p21_nucleus\", \"area_cell\", \"intensity_mean_EdU_nucleus_norm\"]\n",
    "for i, feat in enumerate(features):\n",
    "    ax = plt.subplot(2, 3, i+4)\n",
    "    histogram_plot(\n",
    "        df=df,\n",
    "        feature=feat,\n",
    "        conditions=\"control\",\n",
    "        condition_col=\"condition\",\n",
    "        selector_col=\"cell_line\",\n",
    "        selector_val=\"MCF10A\",\n",
    "        bins=50,\n",
    "        axes=ax\n",
    "    )\n",
    "    ax.set_title(feat.replace(\"_\", \" \").title()[:20], fontsize=10)\n",
    "\n",
    "fig.suptitle(\"Comprehensive Histogram Analysis\", fontsize=14, fontweight='bold')\n",
    "fig.tight_layout()\n",
    "save_fig(fig, path, \"histogram_comprehensive\", fig_extension=\"pdf\")"
   ]
  },
  {
   "cell_type": "markdown",
   "metadata": {},
   "source": [
    "## 10. Advanced KDE Parameters"
   ]
  },
  {
   "cell_type": "code",
   "execution_count": null,
   "metadata": {},
   "outputs": [],
   "source": [
    "# Advanced KDE customization\n",
    "fig, ax = histogram_plot(\n",
    "    df=df,\n",
    "    feature=\"intensity_mean_p21_nucleus\",\n",
    "    conditions=conditions,\n",
    "    condition_col=\"condition\",\n",
    "    selector_col=\"cell_line\",\n",
    "    selector_val=\"MCF10A\",\n",
    "    kde_overlay=True,\n",
    "    kde_smoothing=0.6,  # Extra smooth\n",
    "    kde_params={\n",
    "        'gridsize': 500,     # High resolution for very smooth curves\n",
    "        'bw_method': 'scott', # Bandwidth selection method\n",
    "        'cut': 3,            # Extend KDE beyond data range\n",
    "        'alpha': 0.9,        # Transparency\n",
    "        'linewidth': 3       # Thicker lines\n",
    "    },\n",
    "    title=\"Advanced KDE Parameters\",\n",
    "    show_title=True,\n",
    "    fig_size=(10, 5),\n",
    "    save=True,\n",
    "    path=path,\n",
    "    file_format=\"pdf\"\n",
    ")"
   ]
  },
  {
   "cell_type": "markdown",
   "metadata": {},
   "source": [
    "## 11. Figure Size Control"
   ]
  },
  {
   "cell_type": "code",
   "execution_count": null,
   "metadata": {},
   "outputs": [],
   "source": [
    "# Demonstrate figure size control\n",
    "sizes = [(4, 4), (8, 4), (6, 8)]\n",
    "titles = [\"Square (4x4 cm)\", \"Wide (8x4 cm)\", \"Tall (6x8 cm)\"]\n",
    "\n",
    "for size, title in zip(sizes, titles):\n",
    "    fig, ax = histogram_plot(\n",
    "        df=df,\n",
    "        feature=\"intensity_mean_p21_nucleus\",\n",
    "        conditions=\"control\",\n",
    "        condition_col=\"condition\",\n",
    "        selector_col=\"cell_line\",\n",
    "        selector_val=\"MCF10A\",\n",
    "        fig_size=size,\n",
    "        size_units=\"cm\",  # Can also use \"inches\"\n",
    "        title=title,\n",
    "        show_title=True\n",
    "    )\n",
    "    plt.show()\n",
    "    plt.close()"
   ]
  },
  {
   "cell_type": "markdown",
   "metadata": {},
   "source": [
    "## 12. X-axis Customization"
   ]
  },
  {
   "cell_type": "code",
   "execution_count": null,
   "metadata": {},
   "outputs": [],
   "source": [
    "# Demonstrate x-axis customization options\n",
    "fig, axes = plt.subplots(1, 3, figsize=(12, 4))\n",
    "\n",
    "# Default x-axis\n",
    "histogram_plot(\n",
    "    df=df,\n",
    "    feature=\"area_cell\",\n",
    "    conditions=\"control\",\n",
    "    condition_col=\"condition\",\n",
    "    selector_col=\"cell_line\",\n",
    "    selector_val=\"MCF10A\",\n",
    "    axes=axes[0]\n",
    ")\n",
    "axes[0].set_title(\"Default X-axis\")\n",
    "\n",
    "# Custom x-limits\n",
    "histogram_plot(\n",
    "    df=df,\n",
    "    feature=\"area_cell\",\n",
    "    conditions=\"control\",\n",
    "    condition_col=\"condition\",\n",
    "    selector_col=\"cell_line\",\n",
    "    selector_val=\"MCF10A\",\n",
    "    x_limits=(0, 5000),  # Focus on smaller cells\n",
    "    axes=axes[1]\n",
    ")\n",
    "axes[1].set_title(\"Custom X-limits (0-5000)\")\n",
    "\n",
    "# Rotated labels (useful for long feature names)\n",
    "histogram_plot(\n",
    "    df=df,\n",
    "    feature=\"area_cell\",\n",
    "    conditions=\"control\",\n",
    "    condition_col=\"condition\",\n",
    "    selector_col=\"cell_line\",\n",
    "    selector_val=\"MCF10A\",\n",
    "    rotation=45,  # Rotate x-tick labels\n",
    "    axes=axes[2]\n",
    ")\n",
    "axes[2].set_title(\"Rotated X-labels\")\n",
    "\n",
    "fig.suptitle(\"X-axis Customization Options\", fontsize=14)\n",
    "fig.tight_layout()\n",
    "save_fig(fig, path, \"histogram_xaxis_options\", fig_extension=\"pdf\")"
   ]
  },
  {
   "cell_type": "markdown",
   "metadata": {},
   "source": [
    "## Summary\n",
    "\n",
    "The `histogram_plot` function provides:\n",
    "\n",
    "1. **Flexible input**: Single condition (string) or multiple conditions (list)\n",
    "2. **Two visualization modes**:\n",
    "   - Regular histograms (separate subplots for multiple conditions)\n",
    "   - KDE overlay mode (single plot with overlaid density curves)\n",
    "3. **Log scale support**: Essential for DNA content and other exponential data\n",
    "4. **Binning control**: Integer count, 'auto', or other strategies\n",
    "5. **Normalization**: Show density instead of counts\n",
    "6. **Extensive customization**: Colors, figure size, titles, axis formatting\n",
    "7. **KDE smoothing**: Adjustable smoothness for density curves\n",
    "\n",
    "### Key Parameters:\n",
    "- `kde_overlay=True`: Switches to KDE-only mode\n",
    "- `kde_smoothing`: Controls curve smoothness (0.5-2.0)\n",
    "- `log_scale=True, log_base=2`: For DNA content analysis\n",
    "- `normalize=True`: For comparing distributions of different sizes\n",
    "- `bins`: 100 (default), 'auto', or custom value\n",
    "- `fig_size`: Dynamic default or custom (width, height) in cm or inches"
   ]
  }
 ],
 "metadata": {
  "kernelspec": {
   "display_name": "Python 3",
   "language": "python",
   "name": "python3"
  },
  "language_info": {
   "codemirror_mode": {
    "name": "ipython",
    "version": 3
   },
   "file_extension": ".py",
   "mimetype": "text/x-python",
   "name": "python",
   "nbconvert_exporter": "python",
   "pygments_lexer": "ipython3",
   "version": "3.12.0"
  }
 },
 "nbformat": 4,
 "nbformat_minor": 4
}
