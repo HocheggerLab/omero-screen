{
 "cells": [
  {
   "cell_type": "markdown",
   "metadata": {},
   "source": [
    "## Cell Cycle Grouped Plot Examples\n",
    "\n",
    "This script demonstrates the cellcycle_grouped_plot() function, which creates grouped \n",
    "bar charts showing individual replicates within each condition. This visualization is ideal for:\n",
    "\n",
    "- Replicate variability analysis: See individual replicate performance\n",
    "- Outlier detection: Identify replicates that deviate from the norm  \n",
    "- Experimental consistency: Assess reproducibility across replicates\n",
    "- Detailed analysis: Most granular view of cell cycle distributions\n",
    "\n",
    "Key Features:\n",
    "- Individual replicate bars within each condition group\n",
    "- Stacked by cell cycle phases\n",
    "- Configurable group organization\n",
    "- Optional group boxes for visual separation\n",
    "- Full integration with matplotlib subplots∑"
   ]
  },
  {
   "cell_type": "markdown",
   "metadata": {},
   "source": []
  },
  {
   "cell_type": "code",
   "execution_count": null,
   "metadata": {},
   "outputs": [],
   "source": [
    "# Import required libraries\n",
    "from pathlib import Path\n",
    "\n",
    "import pandas as pd\n",
    "\n",
    "# Import the grouped plot function\n",
    "from omero_screen_plots.plots.cellcycle.grouped import cellcycle_grouped_plot"
   ]
  },
  {
   "cell_type": "code",
   "execution_count": null,
   "metadata": {},
   "outputs": [],
   "source": [
    "data_path = Path(\"data/sample_plate_data.csv\")\n",
    "cell_data = pd.read_csv(data_path)"
   ]
  },
  {
   "cell_type": "code",
   "execution_count": null,
   "metadata": {},
   "outputs": [],
   "source": [
    "conditions = [\n",
    "    \"palb:0.0 c604:0\",\n",
    "    \"palb:0.0 c604:1\",\n",
    "    \"palb:0.375 c604:0\",\n",
    "    \"palb:0.375 c604:1\",\n",
    "    \"palb:0.75 c604:0\",\n",
    "    \"palb:0.75 c604:1\",\n",
    "    \"palb:1.5 c604:0\",\n",
    "    \"palb:1.5 c604:1\",\n",
    "]"
   ]
  },
  {
   "cell_type": "code",
   "execution_count": null,
   "metadata": {},
   "outputs": [],
   "source": [
    "for cell_line in cell_data.cell_line.unique():\n",
    "    fig = cellcycle_grouped_plot(\n",
    "        # REQUIRED PARAMETERS\n",
    "        data=cell_data,\n",
    "        conditions=conditions,  # Available conditions from data\n",
    "        # BASE CLASS ARGUMENTS (explicitly showing defaults)\n",
    "        condition_col=\"condition\",  # Default column name\n",
    "        selector_col=\"cell_line\",  # Default selector column\n",
    "        selector_val=cell_line,  # Required for filtering\n",
    "        title=None,  # Auto-generated: \"Cell Cycle Analysis - RPE1wt (Individual Replicates)\"\n",
    "        colors=None,  # Uses package default color palette\n",
    "        figsize=(5, 3),  # Uses config default size\n",
    "        # CELLCYCLE GROUPED PLOT SPECIFIC ARGUMENTS (showing defaults)\n",
    "        phases=None,  # Uses [\"Polyploid\", \"G2/M\", \"S\", \"G1\", \"Sub-G1\"]\n",
    "        group_size=2,  # Number of conditions per visual group\n",
    "        n_repeats=3,  # Number of replicates to show per condition\n",
    "        repeat_offset=0.18,  # Spacing between replicate bars\n",
    "        bar_width=None,  # Auto-calculated (repeat_offset * 1.05)\n",
    "        show_group_boxes=True,  # Draw boxes around condition groups\n",
    "        show_legend=True,  # Show phase legend\n",
    "        # INTEGRATION ARGUMENTS\n",
    "        ax=None,  # Create own figure\n",
    "        # OUTPUT ARGUMENTS (showing defaults)\n",
    "        save=False,  # Don't save by default\n",
    "        output_path=None,  # No default save path\n",
    "        filename=None,  # Auto-generated if saving\n",
    "        # SAVE QUALITY ARGUMENTS (showing defaults)\n",
    "        dpi=300,  # Standard resolution\n",
    "        format=\"pdf\",  # Default file format\n",
    "        tight_layout=True,  # Apply tight layout\n",
    "    )"
   ]
  },
  {
   "cell_type": "code",
   "execution_count": null,
   "metadata": {},
   "outputs": [],
   "source": []
  }
 ],
 "metadata": {
  "jupytext": {
   "formats": "ipynb,py:percent"
  },
  "kernelspec": {
   "display_name": ".venv",
   "language": "python",
   "name": "python3"
  },
  "language_info": {
   "codemirror_mode": {
    "name": "ipython",
    "version": 3
   },
   "file_extension": ".py",
   "mimetype": "text/x-python",
   "name": "python",
   "nbconvert_exporter": "python",
   "pygments_lexer": "ipython3",
   "version": "3.12.10"
  }
 },
 "nbformat": 4,
 "nbformat_minor": 2
}
