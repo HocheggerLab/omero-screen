{
 "cells": [
  {
   "cell_type": "code",
   "execution_count": null,
   "id": "0",
   "metadata": {},
   "outputs": [],
   "source": [
    "import pandas as pd\n",
    "from pathlib import Path\n",
    "from matplotlib import pyplot as plt\n",
    "\n",
    "# Import the new classes\n",
    "from omero_screen_plots import feature_plot, feature_plot_simple, cellcycle_stacked, save_fig\n",
    "path = Path(\"../images\")\n",
    "path.mkdir(parents=True, exist_ok=True)\n",
    "\n",
    "df = pd.read_csv(\"../data/sample_plate_data.csv\")\n",
    "\n",
    "conditions = [\n",
    "    \"palb:0.0 c604:0\",\n",
    "    \"palb:0.0 c604:1\",\n",
    "    \"palb:0.75 c604:0\",\n",
    "    \"palb:0.75 c604:1\",\n",
    "]"
   ]
  },
  {
   "cell_type": "code",
   "execution_count": null,
   "id": "1",
   "metadata": {},
   "outputs": [],
   "source": [
    "fig, ax = plt.subplots(nrows=3, figsize=(3, 5))\n",
    "cellcycle_stacked(\n",
    "    df=df,\n",
    "    conditions=conditions,\n",
    "    condition_col=\"condition\",\n",
    "    selector_col=\"cell_line\",\n",
    "    selector_val=\"MCF10A\",\n",
    "    y_err=False,\n",
    "    ax=ax[0],\n",
    "    x_label=False,\n",
    ")\n",
    "feature_plot(\n",
    "    df=df,\n",
    "    feature=\"intensity_mean_p21_nucleus\",\n",
    "    conditions=conditions,\n",
    "    selector_col=\"cell_line\",\n",
    "    selector_val=\"MCF10A\",\n",
    "    ax=ax[1],\n",
    "    x_label=False,\n",
    "    ymax=(2000, 12000),\n",
    ")\n",
    "feature_plot_simple(\n",
    "    df=df,\n",
    "    feature=\"area_cell\",\n",
    "    conditions=conditions,\n",
    "    selector_col=\"cell_line\",\n",
    "    selector_val=\"MCF10A\",\n",
    "    ax=ax[2],\n",
    "    ymax=(0, 10000),\n",
    "    violin=True,\n",
    ")\n",
    "fig.suptitle(\"Cell cycle Analysis of Palb/Gwl treated MCF10A cells\", fontsize=10, weight=\"bold\", x=-0.05, y=0.95, ha=\"left\")\n",
    "save_fig(fig, path, \"combined_figures_standard\", tight_layout=False, fig_extension=\"png\", resolution=100)"
   ]
  }
 ],
 "metadata": {
  "kernelspec": {
   "display_name": ".venv",
   "language": "python",
   "name": "python3"
  },
  "language_info": {
   "codemirror_mode": {
    "name": "ipython",
    "version": 3
   },
   "file_extension": ".py",
   "mimetype": "text/x-python",
   "name": "python",
   "nbconvert_exporter": "python",
   "pygments_lexer": "ipython3",
   "version": "3.12.10"
  }
 },
 "nbformat": 4,
 "nbformat_minor": 5
}
