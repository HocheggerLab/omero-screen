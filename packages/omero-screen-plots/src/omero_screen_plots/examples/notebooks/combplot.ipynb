{
 "cells": [
  {
   "cell_type": "markdown",
   "id": "0",
   "metadata": {},
   "source": [
    "# Combination Plot Examples\n",
    "\n",
    "This notebook demonstrates the use of combination plots (combplots) for visualizing cell cycle data from OMERO screens. These plots combine multiple visualization types to provide comprehensive insights into cell cycle progression and DNA content distribution."
   ]
  },
  {
   "cell_type": "code",
   "execution_count": null,
   "id": "1",
   "metadata": {},
   "outputs": [],
   "source": [
    "import pandas as pd\n",
    "from pathlib import Path\n",
    "\n",
    "# Import the combplot functions\n",
    "from omero_screen_plots.combplot import comb_plot, combplot_simple\n",
    "\n",
    "# Create output directory\n",
    "path = Path(\"../images\")\n",
    "path.mkdir(parents=True, exist_ok=True)"
   ]
  },
  {
   "cell_type": "code",
   "execution_count": null,
   "id": "2",
   "metadata": {},
   "outputs": [],
   "source": [
    "# Load sample data\n",
    "df = pd.read_csv(\"../data/sample_plate_data.csv\")\n",
    "\n",
    "# Define conditions to analyze\n",
    "conditions = [\n",
    "    \"palb:0.0 c604:0\",\n",
    "    \"palb:0.0 c604:1\",\n",
    "    \"palb:0.75 c604:0\",\n",
    "    \"palb:0.75 c604:1\",\n",
    "]\n",
    "\n",
    "# Preview the data structure\n",
    "print(f\"Data shape: {df.shape}\")\n",
    "print(f\"Available columns: {list(df.columns)}\")\n",
    "print(f\"Unique cell cycle phases: {df['cell_cycle'].unique()}\")\n",
    "print(f\"Unique conditions: {df['condition'].unique()[:4]}...\")  # Show first 4"
   ]
  },
  {
   "cell_type": "markdown",
   "id": "3",
   "metadata": {},
   "source": [
    "## 1. Combined Plot with Feature Analysis (`comb_plot`)\n",
    "\n",
    "This plot type creates a comprehensive visualization with three rows:\n",
    "1. **Top row**: DNA content histograms for each condition\n",
    "2. **Middle row**: Scatter plots of DNA content vs EdU intensity (S-phase marker)\n",
    "3. **Bottom row**: Scatter plots of DNA content vs a custom feature\n",
    "\n",
    "This is particularly useful when you want to analyze how a specific cellular feature correlates with cell cycle progression."
   ]
  },
  {
   "cell_type": "markdown",
   "id": "4",
   "metadata": {},
   "source": [
    "### Function Arguments for `comb_plot`\n",
    "\n",
    "#### Required Arguments\n",
    "- `df`: DataFrame containing cell cycle data\n",
    "- `conditions`: List of condition names to plot\n",
    "- `feature_col`: Column name for the feature to analyze in the third row\n",
    "- `feature_y_lim`: Threshold value for feature categorization (used for coloring)\n",
    "\n",
    "#### Data Selection\n",
    "- `condition_col`: Column name for experimental condition (default: \"condition\")\n",
    "- `selector_col`: Column name for selector, e.g., cell line (default: \"cell_line\")\n",
    "- `selector_val`: Value to filter selector_col by (e.g., specific cell line name)\n",
    "\n",
    "#### Visualization Options\n",
    "- `title`: Plot title (default: auto-generated)\n",
    "- `cell_number`: Number of cells to randomly sample per condition (default: None = use all)\n",
    "- `colors`: List of colors for plotting (default: matplotlib style colors)\n",
    "- `figsize`: tuple with width and hight of plots (default in cm)\n",
    "- `size_units`: \"cm\" defaukt; if ist not cm than inches will be used.\n",
    "\n",
    "\n",
    "#### Saving Options\n",
    "- `save`: Whether to save the figure (default: True)\n",
    "- `path`: Directory path to save the figure (required when save=True)"
   ]
  },
  {
   "cell_type": "code",
   "execution_count": null,
   "id": "5",
   "metadata": {},
   "outputs": [],
   "source": [
    "# Example: Analyze p21 intensity as a feature\n",
    "comb_plot(\n",
    "    df=df,\n",
    "    conditions=conditions,\n",
    "    feature_col=\"intensity_mean_p21_nucleus\",  # Analyze p21 (cell cycle inhibitor)\n",
    "    feature_y_lim=5000,  # Threshold for p21 high vs low\n",
    "    condition_col=\"condition\",\n",
    "    selector_col=\"cell_line\", \n",
    "    selector_val=\"MCF10A\",\n",
    "    title=\"Cell Cycle Analysis with p21 Expression\",\n",
    "    cell_number=5000,  # Sample 5000 cells per condition for performance\n",
    "    fig_size=(10, 7), # default is 10 cm wide and 7 cm high\n",
    "    size_units=\"cm\", # default is cm, else inches\n",
    "    save=True,\n",
    "    path=path,\n",
    ")"
   ]
  },
  {
   "cell_type": "markdown",
   "id": "6",
   "metadata": {},
   "source": [
    "## 2. Simple Combined Plot with Stacked Bar Chart (`combplot_simple`)\n",
    "\n",
    "This plot type creates a more compact visualization that includes:\n",
    "1. **Top row**: DNA content histograms for each condition\n",
    "2. **Middle row**: Scatter plots of DNA content vs EdU intensity\n",
    "3. **Right column**: Stacked bar chart showing cell cycle phase proportions\n",
    "\n",
    "This is ideal when you want to see both single-cell distributions and population-level statistics in one figure."
   ]
  },
  {
   "cell_type": "markdown",
   "id": "7",
   "metadata": {},
   "source": [
    "### Function Arguments for `combplot_simple`\n",
    "\n",
    "#### Required Arguments\n",
    "- `df`: DataFrame containing cell cycle data\n",
    "- `conditions`: List of condition names to plot\n",
    "\n",
    "#### Data Selection\n",
    "- `condition_col`: Column name for experimental condition (default: \"condition\")\n",
    "- `selector_col`: Column name for selector (default: \"cell_line\")\n",
    "- `selector_val`: Value to filter selector_col by\n",
    "\n",
    "#### Visualization Options\n",
    "- `title`: Plot title (default: auto-generated)\n",
    "- `cell_number`: Number of cells to randomly sample per condition (default: None = use all)\n",
    "- `colors`: List of colors for plotting (default: matplotlib style colors)\n",
    "- `figsize`: tuple with width and hight of plots (default in cm)\n",
    "- `size_units`: \"cm\" defaukt; if ist not cm than inches will be used.\n",
    "\n",
    "- `H3`: Whether to use H3 pS10 data to separate G2 and M phases (default: False)\n",
    "\n",
    "#### Saving Options\n",
    "- `save`: Whether to save the figure (default: True)\n",
    "- `path`: Directory path to save the figure (required when save=True)\n",
    "\n",
    "Note: The figure size is automatically calculated based on the number of conditions."
   ]
  },
  {
   "cell_type": "code",
   "execution_count": null,
   "id": "8",
   "metadata": {},
   "outputs": [],
   "source": [
    "# Example: Simple combplot with population statistics\n",
    "combplot_simple(\n",
    "    df=df,\n",
    "    conditions=conditions,\n",
    "    condition_col=\"condition\",\n",
    "    selector_col=\"cell_line\",\n",
    "    selector_val=\"MCF10A\",\n",
    "    title=\"Combined Cell Cycle Analysis\",\n",
    "    cell_number=5000,  # Sample for scatter plots\n",
    "    #colors=colors # default\n",
    "    fig_size=(10, 4), # default is 10 cm wide and 7 cm high\n",
    "    size_units=\"cm\", # default is cm, else inches\n",
    "    H3=False,  # Standard G2/M combined phases\n",
    "    save=True,\n",
    "    path=path,\n",
    ")"
   ]
  },
  {
   "cell_type": "markdown",
   "id": "9",
   "metadata": {},
   "source": [
    "## 3. Working with Multiple Conditions\n",
    "\n",
    "Both plot types work well with larger numbers of conditions. Here's an example with more conditions:"
   ]
  },
  {
   "cell_type": "code",
   "execution_count": null,
   "id": "10",
   "metadata": {},
   "outputs": [],
   "source": [
    "# Extended conditions list\n",
    "conditions_extended = [\n",
    "    \"palb:0.0 c604:0\",\n",
    "    \"palb:0.0 c604:1\",\n",
    "    \"palb:0.375 c604:0\",\n",
    "    \"palb:0.375 c604:1\",\n",
    "    \"palb:0.75 c604:0\",\n",
    "    \"palb:0.75 c604:1\",\n",
    "]\n",
    "\n",
    "# Create a wider combplot_simple for more conditions\n",
    "combplot_simple(\n",
    "    df=df,\n",
    "    conditions=conditions_extended,\n",
    "    condition_col=\"condition\",\n",
    "    selector_col=\"cell_line\",\n",
    "    selector_val=\"MCF10A\",\n",
    "    title=\"Dose Response Analysis - Extended Conditions\",\n",
    "    cell_number=3000,  # Fewer cells per condition for performance\n",
    "    fig_size=(20, 5), # default is 10 cm wide and 7 cm high\n",
    "    save=True,\n",
    "    path=path,\n",
    ")"
   ]
  },
  {
   "cell_type": "markdown",
   "id": "11",
   "metadata": {},
   "source": [
    "## 4. Analyzing Different Features\n",
    "\n",
    "The `comb_plot` function allows you to analyze any numerical feature in your dataset. Here are some examples of features you might want to analyze:"
   ]
  },
  {
   "cell_type": "code",
   "execution_count": null,
   "id": "12",
   "metadata": {},
   "outputs": [],
   "source": [
    "# Example: Analyze nuclear area\n",
    "comb_plot(\n",
    "    df=df,\n",
    "    conditions=conditions[:2],  # Just first two conditions for clarity\n",
    "    feature_col=\"area_nucleus\",\n",
    "    feature_y_lim=200,  # Threshold for normal vs large nuclei\n",
    "    condition_col=\"condition\",\n",
    "    selector_col=\"cell_line\",\n",
    "    selector_val=\"MCF10A\",\n",
    "    title=\"Nuclear Size Analysis\",\n",
    "    cell_number=2000,\n",
    "    save=True,\n",
    "    path=path,\n",
    ")\n",
    "\n",
    "# Example: Analyze tubulin intensity\n",
    "comb_plot(\n",
    "    df=df,\n",
    "    conditions=conditions[:2],\n",
    "    feature_col=\"intensity_mean_Tub_nucleus\",\n",
    "    feature_y_lim=10000,  # Threshold for tubulin levels\n",
    "    condition_col=\"condition\",\n",
    "    selector_col=\"cell_line\", \n",
    "    selector_val=\"MCF10A\",\n",
    "    title=\"Tubulin Expression Analysis\",\n",
    "    cell_number=2000,\n",
    "    save=True,\n",
    "    path=path,\n",
    ")"
   ]
  },
  {
   "cell_type": "markdown",
   "id": "13",
   "metadata": {},
   "source": [
    "## 5. Best Practices and Tips\n",
    "\n",
    "### When to use each plot type:\n",
    "\n",
    "**Use `comb_plot` when:**\n",
    "- You have a specific feature of interest to correlate with cell cycle\n",
    "- You want to understand how a biomarker changes across cell cycle phases\n",
    "- You need to identify subpopulations based on feature expression\n",
    "\n",
    "**Use `combplot_simple` when:**\n",
    "- You want a compact overview of cell cycle distributions\n",
    "- You need to compare population-level statistics across conditions\n",
    "- You're creating figures for publication that need both single-cell and population data\n",
    "\n",
    "### Performance considerations:\n",
    "- Use `cell_number` parameter to downsample large datasets\n",
    "- Scatter plots are saved as PNG to avoid vector graphics issues with many points\n",
    "- Consider splitting very large condition sets into multiple figures\n",
    "\n",
    "### Data requirements:\n",
    "- Must have normalized DNA content (`integrated_int_DAPI_norm`)\n",
    "- Must have EdU intensity data (`intensity_mean_EdU_nucleus_norm`)\n",
    "- For `comb_plot`: need the specified feature column\n",
    "- Cell cycle phase assignments should be pre-calculated"
   ]
  },
  {
   "cell_type": "markdown",
   "id": "14",
   "metadata": {},
   "source": [
    "## 6. Customizing Colors\n",
    "\n",
    "Both functions accept a custom color list. The color order corresponds to cell cycle phases:"
   ]
  },
  {
   "cell_type": "code",
   "execution_count": null,
   "id": "15",
   "metadata": {},
   "outputs": [],
   "source": [
    "# Custom color palette\n",
    "custom_colors = [\n",
    "    \"#FF6B6B\",  # Sub-G1 (red)\n",
    "    \"#4ECDC4\",  # G1 (teal)\n",
    "    \"#95E1D3\",  # S (light green)\n",
    "    \"#C7CEEA\",  # G2/M (lavender)\n",
    "    \"#FFD93D\",  # Polyploid (yellow)\n",
    "    \"#6C757D\",  # Additional colors if needed\n",
    "]\n",
    "\n",
    "# Apply custom colors\n",
    "combplot_simple(\n",
    "    df=df,\n",
    "    conditions=conditions[:3],\n",
    "    condition_col=\"condition\",\n",
    "    selector_col=\"cell_line\",\n",
    "    selector_val=\"MCF10A\",\n",
    "    title=\"Custom Color Scheme Example\",\n",
    "    colors=custom_colors,\n",
    "    cell_number=3000,\n",
    "    save=True,\n",
    "    path=path,\n",
    ")"
   ]
  }
 ],
 "metadata": {
  "kernelspec": {
   "display_name": ".venv",
   "language": "python",
   "name": "python3"
  },
  "language_info": {
   "codemirror_mode": {
    "name": "ipython",
    "version": 3
   },
   "file_extension": ".py",
   "mimetype": "text/x-python",
   "name": "python",
   "nbconvert_exporter": "python",
   "pygments_lexer": "ipython3",
   "version": "3.12.10"
  }
 },
 "nbformat": 4,
 "nbformat_minor": 5
}
