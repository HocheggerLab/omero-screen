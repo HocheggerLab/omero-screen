{
 "cells": [
  {
   "cell_type": "code",
   "execution_count": null,
   "id": "0",
   "metadata": {},
   "outputs": [],
   "source": [
    "import pandas as pd\n",
    "from pathlib import Path\n",
    "df = pd.read_csv(\"../data/sample_plate_data.csv\")\n",
    "\n",
    "# Define conditions to analyze\n",
    "conditions = [\n",
    "    \"palb:0.0 c604:0\",\n",
    "    \"palb:0.0 c604:1\",\n",
    "    \"palb:0.75 c604:0\",\n",
    "    \"palb:0.75 c604:1\",\n",
    "]\n",
    "\n",
    "path = Path(\"../images\")\n",
    "path.mkdir(parents=True, exist_ok=True)\n",
    "\n",
    "# Preview the data structure\n",
    "print(f\"Data shape: {df.shape}\")\n",
    "print(f\"Available columns: {list(df.columns)}\")\n",
    "print(f\"Unique cell cycle phases: {df['cell_cycle'].unique()}\")\n",
    "print(f\"Unique conditions: {df['condition'].unique()[:4]}...\")  # Show first 4"
   ]
  },
  {
   "cell_type": "code",
   "execution_count": null,
   "id": "1",
   "metadata": {},
   "outputs": [],
   "source": [
    "from omero_screen_plots.normalise import normalize_and_plot\n",
    "\n",
    "df1 = normalize_and_plot(df, \"intensity_mean_p21_nucleus\", group_column='plate_id', save=True, path=path)"
   ]
  }
 ],
 "metadata": {
  "kernelspec": {
   "display_name": ".venv",
   "language": "python",
   "name": "python3"
  },
  "language_info": {
   "codemirror_mode": {
    "name": "ipython",
    "version": 3
   },
   "file_extension": ".py",
   "mimetype": "text/x-python",
   "name": "python",
   "nbconvert_exporter": "python",
   "pygments_lexer": "ipython3",
   "version": "3.12.10"
  }
 },
 "nbformat": 4,
 "nbformat_minor": 5
}
