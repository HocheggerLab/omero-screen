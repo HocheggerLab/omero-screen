{
 "cells": [
  {
   "cell_type": "code",
   "execution_count": null,
   "metadata": {},
   "outputs": [],
   "source": [
    "import pandas as pd\n",
    "from pathlib import Path\n",
    "\n",
    "# Import the new classes\n",
    "from omero_screen_plots import feature_plot, feature_plot_simple\n",
    "path = Path(\"../images\")\n",
    "path.mkdir(parents=True, exist_ok=True)\n",
    "\n",
    "df = pd.read_csv(\"../data/sample_plate_data.csv\")\n",
    "\n",
    "conditions = [\n",
    "    \"palb:0.0 c604:0\",\n",
    "    \"palb:0.0 c604:1\",\n",
    "    \"palb:0.75 c604:0\",\n",
    "    \"palb:0.75 c604:1\",\n",
    "]"
   ]
  },
  {
   "cell_type": "markdown",
   "metadata": {},
   "source": [
    "## Standard feature plot function\n",
    "\n",
    "The `feature_plot` function creates sophisticated visualizations for quantitative features across different experimental conditions, with advanced capabilities for data presentation and statistical analysis.\n",
    "\n",
    "### Key Features:\n",
    "\n",
    "1. **Multi-layer Data Visualization**:\n",
    "   - **Boxen plots**: Shows detailed distribution using letter-value plots (more quantiles than standard boxplots)\n",
    "   - **Swarm plots**: Overlays individual data points colored by replicate/plate ID\n",
    "   - **Median markers**: Displays plate-wise medians with different marker shapes for each replicate\n",
    "\n",
    "2. **Statistical Analysis** (when group_size=1):\n",
    "   - Automatically performs pairwise t-tests comparing each condition to the first (control) condition\n",
    "   - Displays significance markers: *** (p<0.001), ** (p<0.01), * (p<0.05), ns (p>0.05)\n",
    "   - Tests are performed on plate-wise medians (not individual cells) for more stringent statistical rigor\n",
    "\n",
    "3. **Flexible Grouping** (NEW):\n",
    "   - `group_size=1` (default): Standard layout with evenly spaced conditions\n",
    "   - `group_size>1`: Groups conditions visually on x-axis for easier comparison\n",
    "   - Custom spacing within and between groups via `within_group_spacing` and `between_group_gap`\n",
    "\n",
    "4. **Data Filtering and Selection**:\n",
    "   - Filter by specific cell lines or other categorical variables\n",
    "   - Automatically samples data points for visualization to prevent overplotting\n",
    "   - Scales data if needed (e.g., for normalized features)\n",
    "\n",
    "5. **Figure Integration**\n",
    "   - With ax=None a standalone figure is created\n",
    "   - When an ax object is provided the plot can be inegrated with other subplots\n",
    "   - x_label True or False can then turn on or off the x-label as required\n",
    "\n",
    "\n",
    "### Example Usage:\n",
    "\n",
    "```python\n",
    "# Standard plot with statistical comparisons\n",
    "feature_plot(\n",
    "    df=df,\n",
    "    feature=\"intensity_mean_p21_nucleus\",\n",
    "    conditions=[\"control\", \"treatment1\", \"treatment2\", \"treatment3\"],\n",
    "    selector_val=\"MCF10A\",  # Filter for specific cell line\n",
    "    ymax=(3000, 12000),     # Set y-axis limits\n",
    "    group_size=1            # No grouping, enables statistics\n",
    ")\n",
    "\n",
    "# Grouped plot for visual comparison\n",
    "feature_plot(\n",
    "    df=df,\n",
    "    feature=\"intensity_mean_p21_nucleus\", \n",
    "    conditions=[\"ctrl_A\", \"treat_A\", \"ctrl_B\", \"treat_B\"],\n",
    "    group_size=2,           # Group conditions in pairs\n",
    "    within_group_spacing=0.1,\n",
    "    between_group_gap=0.5\n",
    ")\n",
    "```\n",
    "\n",
    "### When to Use:\n",
    "- Comparing quantitative features (e.g., protein expression, cell size) across conditions\n",
    "- When you need both detailed distribution info and statistical significance\n",
    "- For publication-quality figures with multiple data layers\n",
    "- When you want to group related conditions visually"
   ]
  },
  {
   "cell_type": "markdown",
   "metadata": {},
   "source": [
    "# Example 1: No grouping, original plot features and statistacl analysis"
   ]
  },
  {
   "cell_type": "code",
   "execution_count": null,
   "metadata": {},
   "outputs": [],
   "source": [
    "feature_plot(\n",
    "    df=df,\n",
    "    feature=\"intensity_mean_p21_nucleus\",\n",
    "    conditions=conditions,\n",
    "    x_label = True,\n",
    "    ymax=(3000, 12000),\n",
    "    condition_col=\"condition\",\n",
    "    selector_col=\"cell_line\",\n",
    "    selector_val=\"MCF10A\",\n",
    "    title=\"standard featureplot\",\n",
    "    fig_size=(5, 5),\n",
    "    size_units=\"cm\",\n",
    "    scale=False,\n",
    "    group_size=1,\n",
    "    save=True,\n",
    "    path=path,\n",
    "    tight_layout=False,\n",
    "    file_format=\"png\",\n",
    "    dpi=100,\n",
    ")"
   ]
  },
  {
   "cell_type": "markdown",
   "metadata": {},
   "source": [
    "### Example 2: Grouped Feature Plot\n",
    "This example demonstrates rouping functionality. With `group_size=2`, the four conditions are visually grouped into two pairs, making it easier to compare related conditions. Note that when using grouping (group_size > 1), statistical significance markers are not displayed."
   ]
  },
  {
   "cell_type": "code",
   "execution_count": null,
   "metadata": {},
   "outputs": [],
   "source": [
    "feature_plot(\n",
    "    df=df,\n",
    "    feature=\"intensity_mean_p21_nucleus\",\n",
    "    conditions=conditions,\n",
    "    ax=None,\n",
    "    x_label = True,\n",
    "    ymax=(1000, 12000),\n",
    "    condition_col=\"condition\",\n",
    "    selector_col=\"cell_line\",\n",
    "    selector_val=\"MCF10A\",\n",
    "    title=\"standard featureplot grouped\",\n",
    "    fig_size=(5, 5),\n",
    "    size_units=\"cm\",\n",
    "    scale=False,\n",
    "    group_size=2,\n",
    "    within_group_spacing=0.1,\n",
    "    between_group_gap=0.5,\n",
    "    save=True,\n",
    "    path=path,\n",
    "    tight_layout=False,\n",
    "    file_format=\"png\",\n",
    "    dpi=100,\n",
    ")"
   ]
  },
  {
   "cell_type": "markdown",
   "metadata": {},
   "source": [
    "### Example 3: Simple Feature Plot (Box Plot Version)\n",
    "The `feature_plot_simple` function provides a cleaner, simpler visualization:\n",
    "- Standard box plots (instead of boxen plots)\n",
    "- Plate-wise median points overlaid\n",
    "- Statistical significance markers\n",
    "- Less visual complexity, suitable for presentations or when you don't need to show individual data points"
   ]
  },
  {
   "cell_type": "code",
   "execution_count": null,
   "metadata": {},
   "outputs": [],
   "source": [
    "feature_plot_simple(\n",
    "    df=df,\n",
    "    feature=\"intensity_mean_p21_nucleus\",\n",
    "    conditions=conditions,\n",
    "    ymax=(3000, 10000),\n",
    "    condition_col=\"condition\",\n",
    "    selector_col=\"cell_line\",\n",
    "    selector_val=\"MCF10A\",\n",
    "    title=\"Simple Feature Boxplot\",\n",
    "    scale=False,\n",
    "    fig_size=(5, 5),\n",
    "    size_units=\"cm\",\n",
    "    violin=False,\n",
    "    save=True,\n",
    "    path=Path(\"../images\"),\n",
    ")"
   ]
  },
  {
   "cell_type": "code",
   "execution_count": null,
   "metadata": {},
   "outputs": [],
   "source": [
    "feature_plot_simple(\n",
    "    df=df,\n",
    "    feature=\"intensity_mean_p21_nucleus\",\n",
    "    conditions=conditions,\n",
    "    ymax=(2000,10000),\n",
    "    condition_col=\"condition\",\n",
    "    selector_col=\"cell_line\",\n",
    "    selector_val=\"MCF10A\",\n",
    "    violin=True,\n",
    ")"
   ]
  },
  {
   "cell_type": "markdown",
   "metadata": {},
   "source": [
    "### Example 4: Simple Feature Plot (Violin Plot Version)\n",
    "With `violin=True`, the simple feature plot shows:\n",
    "- Violin plots displaying the full distribution shape\n",
    "- Wider sections indicate higher data density\n",
    "- Plate-wise median points overlaid\n",
    "- Statistical significance markers\n",
    "- Useful for visualizing bimodal or skewed distributions"
   ]
  },
  {
   "cell_type": "code",
   "execution_count": null,
   "metadata": {},
   "outputs": [],
   "source": [
    "feature_plot_simple(\n",
    "    df=df,\n",
    "    feature=\"intensity_mean_p21_nucleus\",\n",
    "    conditions=conditions,\n",
    "    ymax=(2000,10000),\n",
    "    condition_col=\"condition\",\n",
    "    selector_col=\"cell_line\",\n",
    "    selector_val=\"MCF10A\",\n",
    "    violin=True,\n",
    "    group_size=2,\n",
    "    within_group_spacing=0.1,\n",
    "    between_group_gap=0.5,\n",
    ")"
   ]
  },
  {
   "cell_type": "markdown",
   "metadata": {},
   "source": [
    "## Summary\n",
    "\n",
    "Choose the right plot type based on your needs:\n",
    "- **`feature_plot`**: For comprehensive analysis with multiple data layers\n",
    "- **`feature_plot` with grouping**: For visual comparison of related conditions\n",
    "- **`feature_plot_simple` (box)**: For clean, simple comparisons\n",
    "- **`feature_plot_simple` (violin)**: For visualizing distribution shapes\n",
    "\n",
    "All plots support the same core parameters for filtering, scaling, and customization."
   ]
  }
 ],
 "metadata": {
  "kernelspec": {
   "display_name": ".venv",
   "language": "python",
   "name": "python3"
  },
  "language_info": {
   "codemirror_mode": {
    "name": "ipython",
    "version": 3
   },
   "file_extension": ".py",
   "mimetype": "text/x-python",
   "name": "python",
   "nbconvert_exporter": "python",
   "pygments_lexer": "ipython3",
   "version": "3.12.10"
  }
 },
 "nbformat": 4,
 "nbformat_minor": 2
}
